{
 "cells": [
  {
   "cell_type": "code",
   "execution_count": null,
   "id": "9259564d",
   "metadata": {},
   "outputs": [],
   "source": [
    "print(\"hello from a valid notebook\")\n"
   ]
  }
 ],
 "metadata": {
  "language_info": {
   "name": "python"
  }
 },
 "nbformat": 4,
 "nbformat_minor": 5
}
