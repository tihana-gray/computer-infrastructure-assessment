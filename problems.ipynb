{
 "cells": [
  {
   "cell_type": "markdown",
   "id": "4b74124b",
   "metadata": {},
   "source": [
    "# Problem 1: Data from yfinance\n",
    "\n",
    "https://github.com/ranaroussi/yfinance"
   ]
  },
  {
   "cell_type": "code",
   "execution_count": 3,
   "id": "a4f6cd8f",
   "metadata": {},
   "outputs": [
    {
     "ename": "NameError",
     "evalue": "name 'faang' is not defined",
     "output_type": "error",
     "traceback": [
      "\u001b[31m---------------------------------------------------------------------------\u001b[39m",
      "\u001b[31mNameError\u001b[39m                                 Traceback (most recent call last)",
      "\u001b[36mCell\u001b[39m\u001b[36m \u001b[39m\u001b[32mIn[3]\u001b[39m\u001b[32m, line 15\u001b[39m\n\u001b[32m      9\u001b[39m     faang = [\u001b[33m'\u001b[39m\u001b[33mMETA\u001b[39m\u001b[33m'\u001b[39m, \u001b[33m'\u001b[39m\u001b[33mAAPL\u001b[39m\u001b[33m'\u001b[39m, \u001b[33m'\u001b[39m\u001b[33mAMZN\u001b[39m\u001b[33m'\u001b[39m, \u001b[33m'\u001b[39m\u001b[33mNFLX\u001b[39m\u001b[33m'\u001b[39m, \u001b[33m'\u001b[39m\u001b[33mGOOG\u001b[39m\u001b[33m'\u001b[39m]      \n\u001b[32m     11\u001b[39m \u001b[38;5;66;03m# Downloading the data from Yahoo Finance\u001b[39;00m\n\u001b[32m     12\u001b[39m \u001b[38;5;66;03m# Using yf.download() to get data for multiple tickers\u001b[39;00m\n\u001b[32m     13\u001b[39m \u001b[38;5;66;03m# 'period=\"5d\"' means last 5 days\u001b[39;00m\n\u001b[32m     14\u001b[39m \u001b[38;5;66;03m# 'interval=\"1h\"' gives hourly price data\u001b[39;00m\n\u001b[32m---> \u001b[39m\u001b[32m15\u001b[39m data = yf.download(tickers=\u001b[43mfaang\u001b[49m, period=\u001b[33m'\u001b[39m\u001b[33m5d\u001b[39m\u001b[33m'\u001b[39m, interval=\u001b[33m'\u001b[39m\u001b[33m1h\u001b[39m\u001b[33m'\u001b[39m, group_by=\u001b[33m'\u001b[39m\u001b[33mticker\u001b[39m\u001b[33m'\u001b[39m)\n\u001b[32m     16\u001b[39m \u001b[38;5;66;03m# 📚 Reference: https://aroussi.com/post/python-yahoo-finance, \u001b[39;00m\n\u001b[32m     17\u001b[39m \u001b[38;5;66;03m# https://medium.com/@kasperjuunge/yfinance-10-ways-to-get-stock-data-with-python-6677f49e8282,\u001b[39;00m\n\u001b[32m     18\u001b[39m \u001b[38;5;66;03m# https://www.youtube.com/watch?v=j0sBKAB75oc  \u001b[39;00m\n\u001b[32m     19\u001b[39m \n\u001b[32m     20\u001b[39m \u001b[38;5;66;03m# Checking if data was downloaded successfully\u001b[39;00m\n\u001b[32m     21\u001b[39m \u001b[38;5;28mprint\u001b[39m(\u001b[33m\"\u001b[39m\u001b[33mDownloaded data sample:\u001b[39m\u001b[38;5;130;01m\\n\u001b[39;00m\u001b[33m\"\u001b[39m)\n",
      "\u001b[31mNameError\u001b[39m: name 'faang' is not defined"
     ]
    }
   ],
   "source": [
    "import yfinance as yf  # Yahoo Finance data\n",
    "import pandas as pd   # 📚 Reference: https://pandas.pydata.org/                                        \n",
    "from datetime import datetime  # 📚 Reference: https://docs.python.org/3/library/datetime.html\n",
    "\n",
    "def get_data():\n",
    "# 📚 Reference: https://docs.python.org/3/tutorial/controlflow.html#defining-functions    \n",
    "\n",
    "# The list of FAANG stock symbols\n",
    "    faang = ['META', 'AAPL', 'AMZN', 'NFLX', 'GOOG']      \n",
    "\n",
    "# Downloading the data from Yahoo Finance\n",
    "# Using yf.download() to get data for multiple tickers\n",
    "# 'period=\"5d\"' means last 5 days\n",
    "# 'interval=\"1h\"' gives hourly price data\n",
    "data = yf.download(tickers=faang, period='5d', interval='1h', group_by='ticker')\n",
    "# 📚 Reference: https://aroussi.com/post/python-yahoo-finance, \n",
    "# https://medium.com/@kasperjuunge/yfinance-10-ways-to-get-stock-data-with-python-6677f49e8282,\n",
    "# https://www.youtube.com/watch?v=j0sBKAB75oc  \n",
    "\n",
    "# Checking if data was downloaded successfully\n",
    "print(\"Downloaded data sample:\\n\")\n",
    "print(data.head())  # Printing first few rows for confirmation\n",
    "# Reference: https://pandas.pydata.org/docs/reference/api/pandas.DataFrame.head.html \n",
    "\n",
    "# Confirming that data folder exists\n",
    "folder_name = 'data'\n",
    "if not os.path.isdir(folder_name):\n",
    "    print(f\"Folder '{folder_name}' not found! Please create it manually.\")\n",
    "    return  # Exits early if folder missing\n",
    "else:\n",
    "        print(f\"Folder '{folder_name}' found. Proceeding to save the data.\") \n",
    "# 📚 Reference: https://www.w3schools.com/python/python_conditions.asp, https://docs.python.org/3/library/os.path.html#os.path.isdir               "
   ]
  },
  {
   "cell_type": "code",
   "execution_count": null,
   "id": "00f533f8",
   "metadata": {},
   "outputs": [],
   "source": []
  },
  {
   "cell_type": "markdown",
   "id": "e03ef321",
   "metadata": {},
   "source": [
    "## End"
   ]
  }
 ],
 "metadata": {
  "kernelspec": {
   "display_name": "Python 3",
   "language": "python",
   "name": "python3"
  },
  "language_info": {
   "codemirror_mode": {
    "name": "ipython",
    "version": 3
   },
   "file_extension": ".py",
   "mimetype": "text/x-python",
   "name": "python",
   "nbconvert_exporter": "python",
   "pygments_lexer": "ipython3",
   "version": "3.12.1"
  }
 },
 "nbformat": 4,
 "nbformat_minor": 5
}
