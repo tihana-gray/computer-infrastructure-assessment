{
 "cells": [
  {
   "cell_type": "markdown",
   "id": "4b74124b",
   "metadata": {},
   "source": [
    "# Problem 1: Data from yfinance\n",
    "\n",
    "https://github.com/ranaroussi/yfinance"
   ]
  },
  {
   "cell_type": "code",
   "execution_count": 7,
   "id": "a4f6cd8f",
   "metadata": {},
   "outputs": [
    {
     "name": "stderr",
     "output_type": "stream",
     "text": [
      "C:\\Users\\tihan\\AppData\\Local\\Temp\\ipykernel_17528\\1785960595.py:16: FutureWarning: YF.download() has changed argument auto_adjust default to True\n",
      "  data = yf.download(tickers=faang, period='5d', interval='1h', group_by='ticker')\n",
      "[*********************100%***********************]  5 of 5 completed"
     ]
    },
    {
     "name": "stdout",
     "output_type": "stream",
     "text": [
      "Downloaded data sample:\n",
      "\n",
      "Ticker                           GOOG                                      \\\n",
      "Price                            Open        High         Low       Close   \n",
      "Datetime                                                                    \n",
      "2025-10-07 13:30:00+00:00  248.945007  251.550003  248.350006  249.449997   \n",
      "2025-10-07 14:30:00+00:00  249.425003  249.570007  247.690002  248.684998   \n",
      "2025-10-07 15:30:00+00:00  248.675003  248.675003  246.910004  247.490005   \n",
      "2025-10-07 16:30:00+00:00  247.490005  248.050003  247.089996  247.945007   \n",
      "2025-10-07 17:30:00+00:00  247.960007  248.470001  247.619995  248.115005   \n",
      "\n",
      "Ticker                                    AMZN                          \\\n",
      "Price                       Volume        Open        High         Low   \n",
      "Datetime                                                                 \n",
      "2025-10-07 13:30:00+00:00  3686636  220.880005  222.889999  220.169998   \n",
      "2025-10-07 14:30:00+00:00  1994938  221.470001  222.360001  220.800003   \n",
      "2025-10-07 15:30:00+00:00  1466798  221.229996  221.369995  220.399994   \n",
      "2025-10-07 16:30:00+00:00   785469  221.080002  221.524994  220.449997   \n",
      "2025-10-07 17:30:00+00:00  1022732  221.169998  221.339996  220.539993   \n",
      "\n",
      "Ticker                                          ...         NFLX               \\\n",
      "Price                           Close   Volume  ...         Open         High   \n",
      "Datetime                                        ...                             \n",
      "2025-10-07 13:30:00+00:00  221.466995  8154723  ...  1177.790039  1189.349976   \n",
      "2025-10-07 14:30:00+00:00  221.250000  4894969  ...  1184.329956  1201.364990   \n",
      "2025-10-07 15:30:00+00:00  221.070007  3249146  ...  1197.359985  1197.359985   \n",
      "2025-10-07 16:30:00+00:00  221.179993  2419533  ...  1189.239990  1190.839844   \n",
      "2025-10-07 17:30:00+00:00  221.134995  1993381  ...  1189.349976  1190.810059   \n",
      "\n",
      "Ticker                                                             AAPL  \\\n",
      "Price                              Low        Close  Volume        Open   \n",
      "Datetime                                                                  \n",
      "2025-10-07 13:30:00+00:00  1177.790039  1184.339966  939528  256.820007   \n",
      "2025-10-07 14:30:00+00:00  1184.026001  1196.857544  757860  256.670013   \n",
      "2025-10-07 15:30:00+00:00  1188.310059  1189.420044  336549  256.390015   \n",
      "2025-10-07 16:30:00+00:00  1183.000000  1189.550049  254961  256.329987   \n",
      "2025-10-07 17:30:00+00:00  1186.739990  1187.385742  167901  255.860001   \n",
      "\n",
      "Ticker                                                                  \n",
      "Price                            High         Low       Close   Volume  \n",
      "Datetime                                                                \n",
      "2025-10-07 13:30:00+00:00  257.399994  256.279999  256.679993  6425357  \n",
      "2025-10-07 14:30:00+00:00  257.107910  255.600006  256.378998  4531854  \n",
      "2025-10-07 15:30:00+00:00  256.849792  255.889999  256.338409  3693772  \n",
      "2025-10-07 16:30:00+00:00  256.660004  255.754303  255.889999  2335693  \n",
      "2025-10-07 17:30:00+00:00  256.149994  255.429993  256.069885  2294433  \n",
      "\n",
      "[5 rows x 25 columns]\n",
      "Folder 'data' found. Proceeding to save the data.\n"
     ]
    },
    {
     "name": "stderr",
     "output_type": "stream",
     "text": [
      "\n"
     ]
    }
   ],
   "source": [
    "import yfinance as yf  # Yahoo Finance data\n",
    "import pandas as pd   # 📚 Reference: https://pandas.pydata.org/\n",
    "import os             # 📚 Reference: https://docs.python.org/3/library/os.html\n",
    "from datetime import datetime  # 📚 Reference: https://docs.python.org/3/library/datetime.html\n",
    "\n",
    "def get_data():\n",
    "    # 📚 Reference: https://docs.python.org/3/tutorial/controlflow.html#defining-functions    \n",
    "\n",
    "    # The list of FAANG stock symbols\n",
    "    faang = ['META', 'AAPL', 'AMZN', 'NFLX', 'GOOG']      \n",
    "\n",
    "    # Downloading the data from Yahoo Finance\n",
    "    # Using yf.download() to get data for multiple tickers\n",
    "    # 'period=\"5d\"' means last 5 days\n",
    "    # 'interval=\"1h\"' gives hourly price data\n",
    "    data = yf.download(tickers=faang, period='5d', interval='1h', group_by='ticker')\n",
    "    # 📚 Reference: https://aroussi.com/post/python-yahoo-finance, \n",
    "    # https://medium.com/@kasperjuunge/yfinance-10-ways-to-get-stock-data-with-python-6677f49e8282,\n",
    "    # https://www.youtube.com/watch?v=j0sBKAB75oc  \n",
    "\n",
    "    # Checking if data was downloaded successfully\n",
    "    print(\"Downloaded data sample:\\n\")\n",
    "    print(data.head())  # Printing first few rows for confirmation\n",
    "    # Reference: https://pandas.pydata.org/docs/reference/api/pandas.DataFrame.head.html \n",
    "\n",
    "    # Confirming that data folder exists\n",
    "    folder_name = 'data'\n",
    "    if not os.path.isdir(folder_name):\n",
    "        print(f\"Folder '{folder_name}' not found! Please create it manually.\")\n",
    "        return  # Exits early if folder missing\n",
    "    else:\n",
    "        print(f\"Folder '{folder_name}' found. Proceeding to save the data.\") \n",
    "    # 📚 Reference: https://www.w3schools.com/python/python_conditions.asp, \n",
    "    # https://docs.python.org/3/library/os.path.html#os.path.isdir\n",
    "\n",
    "get_data()\n"
   ]
  },
  {
   "cell_type": "code",
   "execution_count": null,
   "id": "00f533f8",
   "metadata": {},
   "outputs": [],
   "source": []
  },
  {
   "cell_type": "markdown",
   "id": "e03ef321",
   "metadata": {},
   "source": [
    "## End"
   ]
  }
 ],
 "metadata": {
  "kernelspec": {
   "display_name": "base",
   "language": "python",
   "name": "python3"
  },
  "language_info": {
   "codemirror_mode": {
    "name": "ipython",
    "version": 3
   },
   "file_extension": ".py",
   "mimetype": "text/x-python",
   "name": "python",
   "nbconvert_exporter": "python",
   "pygments_lexer": "ipython3",
   "version": "3.12.7"
  }
 },
 "nbformat": 4,
 "nbformat_minor": 5
}
